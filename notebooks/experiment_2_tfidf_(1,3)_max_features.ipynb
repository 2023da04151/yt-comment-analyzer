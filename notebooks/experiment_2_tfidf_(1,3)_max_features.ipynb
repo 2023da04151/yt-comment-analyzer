{
  "cells": [
    {
      "cell_type": "code",
      "execution_count": 6,
      "metadata": {
        "colab": {
          "base_uri": "https://localhost:8080/",
          "height": 67
        },
        "id": "rpBhejOSliY4",
        "outputId": "84be0a8e-17fd-45b4-c48c-96f404ab5de4"
      },
      "outputs": [
        {
          "output_type": "display_data",
          "data": {
            "text/plain": [
              "Accessing as AMR-ITH\n"
            ],
            "text/html": [
              "<pre style=\"white-space:pre;overflow-x:auto;line-height:normal;font-family:Menlo,'DejaVu Sans Mono',consolas,'Courier New',monospace\">Accessing as AMR-ITH\n",
              "</pre>\n"
            ]
          },
          "metadata": {}
        },
        {
          "output_type": "display_data",
          "data": {
            "text/plain": [
              "Initialized MLflow to track repo \u001b[32m\"AMR-ITH/yt-comment-analyzer\"\u001b[0m\n"
            ],
            "text/html": [
              "<pre style=\"white-space:pre;overflow-x:auto;line-height:normal;font-family:Menlo,'DejaVu Sans Mono',consolas,'Courier New',monospace\">Initialized MLflow to track repo <span style=\"color: #008000; text-decoration-color: #008000\">\"AMR-ITH/yt-comment-analyzer\"</span>\n",
              "</pre>\n"
            ]
          },
          "metadata": {}
        },
        {
          "output_type": "display_data",
          "data": {
            "text/plain": [
              "Repository AMR-ITH/yt-comment-analyzer initialized!\n"
            ],
            "text/html": [
              "<pre style=\"white-space:pre;overflow-x:auto;line-height:normal;font-family:Menlo,'DejaVu Sans Mono',consolas,'Courier New',monospace\">Repository AMR-ITH/yt-comment-analyzer initialized!\n",
              "</pre>\n"
            ]
          },
          "metadata": {}
        }
      ],
      "source": [
        "import dagshub\n",
        "dagshub.init(repo_owner='AMR-ITH', repo_name='yt-comment-analyzer', mlflow=True)"
      ]
    },
    {
      "cell_type": "code",
      "execution_count": 10,
      "metadata": {
        "colab": {
          "base_uri": "https://localhost:8080/"
        },
        "id": "05pLCZKYljVb",
        "outputId": "8d503c03-ffb0-46b6-c146-41178c0ffcd5"
      },
      "outputs": [
        {
          "output_type": "execute_result",
          "data": {
            "text/plain": [
              "<Experiment: artifact_location='mlflow-artifacts:/39e80ae2c2b6468a949c287467410473', creation_time=1752223097484, experiment_id='8', last_update_time=1752223097484, lifecycle_stage='active', name='Exp 2 - TfIdf Trigram max_features', tags={}>"
            ]
          },
          "metadata": {},
          "execution_count": 10
        }
      ],
      "source": [
        "# Set or create an experiment\n",
        "mlflow.set_experiment(\"Exp 2 - TfIdf Trigram max_features\")"
      ]
    },
    {
      "cell_type": "code",
      "execution_count": 9,
      "metadata": {
        "id": "O9-sXCMNl5sp"
      },
      "outputs": [],
      "source": [
        "from sklearn.feature_extraction.text import CountVectorizer, TfidfVectorizer\n",
        "from sklearn.ensemble import RandomForestClassifier\n",
        "from sklearn.model_selection import train_test_split\n",
        "from sklearn.metrics import accuracy_score, classification_report, confusion_matrix\n",
        "import mlflow.sklearn\n",
        "import matplotlib.pyplot as plt\n",
        "import seaborn as sns\n",
        "import pandas as pd\n",
        "import os\n",
        "from pathlib import Path"
      ]
    },
    {
      "cell_type": "code",
      "execution_count": null,
      "metadata": {
        "id": "QY7s5VXHm3mT"
      },
      "outputs": [],
      "source": [
        "data_dir_path = Path.cwd().parent / \"data\" /\"raw\""
      ]
    },
    {
      "cell_type": "code",
      "execution_count": 11,
      "metadata": {
        "colab": {
          "base_uri": "https://localhost:8080/"
        },
        "id": "W4b4RgtuljeZ",
        "outputId": "134cc00f-1ff9-4d27-ffa4-de90a9617180"
      },
      "outputs": [
        {
          "output_type": "execute_result",
          "data": {
            "text/plain": [
              "(36662, 2)"
            ]
          },
          "metadata": {},
          "execution_count": 11
        }
      ],
      "source": [
        "df = pd.read_csv(\"/content/reddit_preprocessing.csv\").dropna(subset=['clean_comment'])\n",
        "df.shape"
      ]
    },
    {
      "cell_type": "code",
      "execution_count": 13,
      "metadata": {
        "id": "m8aU7svjm3mW"
      },
      "outputs": [],
      "source": [
        "# 🧪 Function to run experiments with different vectorizers and max_features\n",
        "def run_experiment_vectorizer_max_features(vectorizer_type, max_features):\n",
        "    ngram_range = (1, 3)  # Trigram setting\n",
        "\n",
        "    # Ensure no active MLflow runs\n",
        "    if mlflow.active_run():\n",
        "        mlflow.end_run()\n",
        "\n",
        "    # Step 1: Choose vectorizer based on type\n",
        "    if vectorizer_type == \"TF-IDF\":\n",
        "        vectorizer = TfidfVectorizer(ngram_range=ngram_range, max_features=max_features)\n",
        "    elif vectorizer_type == \"BoW\":\n",
        "        vectorizer = CountVectorizer(ngram_range=ngram_range, max_features=max_features)\n",
        "    else:\n",
        "        raise ValueError(\"vectorizer_type must be 'TF-IDF' or 'BoW'\")\n",
        "\n",
        "    # Step 2: Train-test split\n",
        "    X_train, X_test, y_train, y_test = train_test_split(\n",
        "        df['clean_comment'], df['category'],\n",
        "        test_size=0.2, random_state=42, stratify=df['category']\n",
        "    )\n",
        "\n",
        "    # Step 3: Vectorization\n",
        "    X_train = vectorizer.fit_transform(X_train)\n",
        "    X_test = vectorizer.transform(X_test)\n",
        "\n",
        "    # Step 4: Model training with MLflow logging\n",
        "    try:\n",
        "        with mlflow.start_run() as run:\n",
        "            # Set tags for the experiment and run\n",
        "            mlflow.set_tag(\"mlflow.runName\", f\"{vectorizer_type}_Trigrams_max_features_{max_features}\")\n",
        "            mlflow.set_tag(\"experiment_type\", \"feature_engineering_max_features\")\n",
        "            mlflow.set_tag(\"model_type\", \"RandomForestClassifier\")\n",
        "            mlflow.set_tag(\"vectorizer_type\", vectorizer_type)\n",
        "\n",
        "            # Add a description\n",
        "            mlflow.set_tag(\"description\", f\"RandomForest with {vectorizer_type} Trigrams, max_features={max_features}\")\n",
        "\n",
        "            # Log vectorizer parameters\n",
        "            mlflow.log_param(\"vectorizer_type\", vectorizer_type)\n",
        "            mlflow.log_param(\"ngram_range\", ngram_range)\n",
        "            mlflow.log_param(\"vectorizer_max_features\", max_features)\n",
        "\n",
        "            # Log Random Forest parameters\n",
        "            n_estimators = 200\n",
        "            max_depth = 15\n",
        "            mlflow.log_param(\"n_estimators\", n_estimators)\n",
        "            mlflow.log_param(\"max_depth\", max_depth)\n",
        "\n",
        "            # Initialize and train the model\n",
        "            model = RandomForestClassifier(n_estimators=n_estimators, max_depth=max_depth, random_state=42)\n",
        "            model.fit(X_train, y_train)\n",
        "\n",
        "            # Step 5: Make predictions and log metrics\n",
        "            y_pred = model.predict(X_test)\n",
        "\n",
        "            # Log accuracy\n",
        "            accuracy = accuracy_score(y_test, y_pred)\n",
        "            mlflow.log_metric(\"accuracy\", accuracy)\n",
        "\n",
        "            # Log classification report\n",
        "            classification_rep = classification_report(y_test, y_pred, output_dict=True)\n",
        "            for label, metrics in classification_rep.items():\n",
        "                if isinstance(metrics, dict):\n",
        "                    for metric, value in metrics.items():\n",
        "                        mlflow.log_metric(f\"{label}_{metric}\", value)\n",
        "\n",
        "            # Log confusion matrix\n",
        "            conf_matrix = confusion_matrix(y_test, y_pred)\n",
        "            plt.figure(figsize=(8, 6))\n",
        "            sns.heatmap(conf_matrix, annot=True, fmt=\"d\", cmap=\"Blues\")\n",
        "            plt.xlabel(\"Predicted\")\n",
        "            plt.ylabel(\"Actual\")\n",
        "            plt.title(f\"Confusion Matrix: {vectorizer_type} Trigrams, max_features={max_features}\")\n",
        "            plt.savefig(f\"confusion_matrix_{vectorizer_type}_{max_features}.png\")\n",
        "            mlflow.log_artifact(f\"confusion_matrix_{vectorizer_type}_{max_features}.png\")\n",
        "            plt.close()\n",
        "\n",
        "            # Log additional metrics for analysis\n",
        "            mlflow.log_metric(\"feature_count\", min(max_features, X_train.shape[1]))\n",
        "            mlflow.log_metric(\"training_samples\", X_train.shape[0])\n",
        "            mlflow.log_metric(\"test_samples\", X_test.shape[0])\n",
        "\n",
        "            print(f\"✅ Completed: {vectorizer_type} with max_features={max_features}, Accuracy: {accuracy:.4f}\")\n",
        "\n",
        "    except Exception as e:\n",
        "        print(f\"❌ Error in {vectorizer_type} experiment with max_features={max_features}: {str(e)}\")\n",
        "        if mlflow.active_run():\n",
        "            mlflow.end_run()\n",
        "        raise"
      ]
    },
    {
      "cell_type": "code",
      "source": [
        "def run_vectorizer_experiments(vectorizer_type, max_features_values):\n",
        "    print(f\"\\n🚀 Starting {vectorizer_type} experiments with varying max_features...\")\n",
        "\n",
        "    for max_features in max_features_values:\n",
        "        run_experiment_vectorizer_max_features(vectorizer_type, max_features)\n",
        "\n",
        "    print(f\"🎉 Completed all {vectorizer_type} experiments!\")\n",
        "\n",
        "\n",
        "\n",
        "# Test various max_features values\n",
        "max_features_values = [1000, 2000, 3000, 4000, 5000, 6000, 7000, 8000, 9000, 10000]\n",
        "\n",
        "\n",
        "# Run TF-IDF experiments\n",
        "run_vectorizer_experiments(\"TF-IDF\", max_features_values)\n",
        "\n",
        "# Run BoW experiments\n",
        "run_vectorizer_experiments(\"BoW\", max_features_values)\n",
        "\n",
        "# Final cleanup\n",
        "if mlflow.active_run():\n",
        "    mlflow.end_run()\n",
        "\n",
        "print(\"\\n🎯 All experiments completed! Check MLflow for results.\")\n",
        "print(\"📈 Compare the performance curves to find optimal max_features value.\")"
      ],
      "metadata": {
        "colab": {
          "base_uri": "https://localhost:8080/"
        },
        "id": "oPK2gSlFpiqU",
        "outputId": "85094c56-a247-4540-973a-59c64657fd16"
      },
      "execution_count": 14,
      "outputs": [
        {
          "output_type": "stream",
          "name": "stdout",
          "text": [
            "\n",
            "🚀 Starting TF-IDF experiments with varying max_features...\n",
            "✅ Completed: TF-IDF with max_features=1000, Accuracy: 0.6618\n",
            "🏃 View run TF-IDF_Trigrams_max_features_1000 at: https://dagshub.com/AMR-ITH/yt-comment-analyzer.mlflow/#/experiments/8/runs/11ece2949fa04a73a5b0c2db70223e4c\n",
            "🧪 View experiment at: https://dagshub.com/AMR-ITH/yt-comment-analyzer.mlflow/#/experiments/8\n",
            "✅ Completed: TF-IDF with max_features=2000, Accuracy: 0.6592\n",
            "🏃 View run TF-IDF_Trigrams_max_features_2000 at: https://dagshub.com/AMR-ITH/yt-comment-analyzer.mlflow/#/experiments/8/runs/20bfb323cbf449fb9097fac2cbd54f9c\n",
            "🧪 View experiment at: https://dagshub.com/AMR-ITH/yt-comment-analyzer.mlflow/#/experiments/8\n",
            "✅ Completed: TF-IDF with max_features=3000, Accuracy: 0.6539\n",
            "🏃 View run TF-IDF_Trigrams_max_features_3000 at: https://dagshub.com/AMR-ITH/yt-comment-analyzer.mlflow/#/experiments/8/runs/b2e962f81dad4e42a09912c052ac2356\n",
            "🧪 View experiment at: https://dagshub.com/AMR-ITH/yt-comment-analyzer.mlflow/#/experiments/8\n",
            "✅ Completed: TF-IDF with max_features=4000, Accuracy: 0.6527\n",
            "🏃 View run TF-IDF_Trigrams_max_features_4000 at: https://dagshub.com/AMR-ITH/yt-comment-analyzer.mlflow/#/experiments/8/runs/04fb3f6689094e9aa2c59e216c6c3078\n",
            "🧪 View experiment at: https://dagshub.com/AMR-ITH/yt-comment-analyzer.mlflow/#/experiments/8\n",
            "✅ Completed: TF-IDF with max_features=5000, Accuracy: 0.6540\n",
            "🏃 View run TF-IDF_Trigrams_max_features_5000 at: https://dagshub.com/AMR-ITH/yt-comment-analyzer.mlflow/#/experiments/8/runs/f759438156314152a000c4bc3e5fed83\n",
            "🧪 View experiment at: https://dagshub.com/AMR-ITH/yt-comment-analyzer.mlflow/#/experiments/8\n",
            "✅ Completed: TF-IDF with max_features=6000, Accuracy: 0.6483\n",
            "🏃 View run TF-IDF_Trigrams_max_features_6000 at: https://dagshub.com/AMR-ITH/yt-comment-analyzer.mlflow/#/experiments/8/runs/f47d0a7e20304ee593e41c0feece3ed2\n",
            "🧪 View experiment at: https://dagshub.com/AMR-ITH/yt-comment-analyzer.mlflow/#/experiments/8\n",
            "✅ Completed: TF-IDF with max_features=7000, Accuracy: 0.6463\n",
            "🏃 View run TF-IDF_Trigrams_max_features_7000 at: https://dagshub.com/AMR-ITH/yt-comment-analyzer.mlflow/#/experiments/8/runs/f4ba5b9fab1e4f698523dadb79a81570\n",
            "🧪 View experiment at: https://dagshub.com/AMR-ITH/yt-comment-analyzer.mlflow/#/experiments/8\n",
            "✅ Completed: TF-IDF with max_features=8000, Accuracy: 0.6483\n",
            "🏃 View run TF-IDF_Trigrams_max_features_8000 at: https://dagshub.com/AMR-ITH/yt-comment-analyzer.mlflow/#/experiments/8/runs/fb094a1439484353bd292f07596a543f\n",
            "🧪 View experiment at: https://dagshub.com/AMR-ITH/yt-comment-analyzer.mlflow/#/experiments/8\n",
            "✅ Completed: TF-IDF with max_features=9000, Accuracy: 0.6428\n",
            "🏃 View run TF-IDF_Trigrams_max_features_9000 at: https://dagshub.com/AMR-ITH/yt-comment-analyzer.mlflow/#/experiments/8/runs/7d283efb9e3d4d47b30cfcfd9c244cb3\n",
            "🧪 View experiment at: https://dagshub.com/AMR-ITH/yt-comment-analyzer.mlflow/#/experiments/8\n",
            "✅ Completed: TF-IDF with max_features=10000, Accuracy: 0.6446\n",
            "🏃 View run TF-IDF_Trigrams_max_features_10000 at: https://dagshub.com/AMR-ITH/yt-comment-analyzer.mlflow/#/experiments/8/runs/464c8dd1707541aab11cc3ed63f1c06f\n",
            "🧪 View experiment at: https://dagshub.com/AMR-ITH/yt-comment-analyzer.mlflow/#/experiments/8\n",
            "🎉 Completed all TF-IDF experiments!\n",
            "\n",
            "🚀 Starting BoW experiments with varying max_features...\n",
            "✅ Completed: BoW with max_features=1000, Accuracy: 0.6603\n",
            "🏃 View run BoW_Trigrams_max_features_1000 at: https://dagshub.com/AMR-ITH/yt-comment-analyzer.mlflow/#/experiments/8/runs/c4a8f006ffde4d0d932ee4bdf742f225\n",
            "🧪 View experiment at: https://dagshub.com/AMR-ITH/yt-comment-analyzer.mlflow/#/experiments/8\n",
            "✅ Completed: BoW with max_features=2000, Accuracy: 0.6607\n",
            "🏃 View run BoW_Trigrams_max_features_2000 at: https://dagshub.com/AMR-ITH/yt-comment-analyzer.mlflow/#/experiments/8/runs/36fd5422179a4834a70cdb9fecbbc55d\n",
            "🧪 View experiment at: https://dagshub.com/AMR-ITH/yt-comment-analyzer.mlflow/#/experiments/8\n",
            "✅ Completed: BoW with max_features=3000, Accuracy: 0.6531\n",
            "🏃 View run BoW_Trigrams_max_features_3000 at: https://dagshub.com/AMR-ITH/yt-comment-analyzer.mlflow/#/experiments/8/runs/c5879230ce4e40e08b89387b054dd7b3\n",
            "🧪 View experiment at: https://dagshub.com/AMR-ITH/yt-comment-analyzer.mlflow/#/experiments/8\n",
            "✅ Completed: BoW with max_features=4000, Accuracy: 0.6497\n",
            "🏃 View run BoW_Trigrams_max_features_4000 at: https://dagshub.com/AMR-ITH/yt-comment-analyzer.mlflow/#/experiments/8/runs/9933937c578c4ba082848f2546261199\n",
            "🧪 View experiment at: https://dagshub.com/AMR-ITH/yt-comment-analyzer.mlflow/#/experiments/8\n",
            "✅ Completed: BoW with max_features=5000, Accuracy: 0.6547\n",
            "🏃 View run BoW_Trigrams_max_features_5000 at: https://dagshub.com/AMR-ITH/yt-comment-analyzer.mlflow/#/experiments/8/runs/79b520a0ff054a4798a40e8e773d2206\n",
            "🧪 View experiment at: https://dagshub.com/AMR-ITH/yt-comment-analyzer.mlflow/#/experiments/8\n",
            "✅ Completed: BoW with max_features=6000, Accuracy: 0.6494\n",
            "🏃 View run BoW_Trigrams_max_features_6000 at: https://dagshub.com/AMR-ITH/yt-comment-analyzer.mlflow/#/experiments/8/runs/1e8a032309dd48f08dbfca7464f6f2a0\n",
            "🧪 View experiment at: https://dagshub.com/AMR-ITH/yt-comment-analyzer.mlflow/#/experiments/8\n",
            "✅ Completed: BoW with max_features=7000, Accuracy: 0.6478\n",
            "🏃 View run BoW_Trigrams_max_features_7000 at: https://dagshub.com/AMR-ITH/yt-comment-analyzer.mlflow/#/experiments/8/runs/761649f3c52046979fdbf8377d8a7825\n",
            "🧪 View experiment at: https://dagshub.com/AMR-ITH/yt-comment-analyzer.mlflow/#/experiments/8\n",
            "✅ Completed: BoW with max_features=8000, Accuracy: 0.6491\n",
            "🏃 View run BoW_Trigrams_max_features_8000 at: https://dagshub.com/AMR-ITH/yt-comment-analyzer.mlflow/#/experiments/8/runs/8c8c474c076c4d128c70a6dc091b2d12\n",
            "🧪 View experiment at: https://dagshub.com/AMR-ITH/yt-comment-analyzer.mlflow/#/experiments/8\n",
            "✅ Completed: BoW with max_features=9000, Accuracy: 0.6428\n",
            "🏃 View run BoW_Trigrams_max_features_9000 at: https://dagshub.com/AMR-ITH/yt-comment-analyzer.mlflow/#/experiments/8/runs/00547d8329c447f28c74b4187da0e037\n",
            "🧪 View experiment at: https://dagshub.com/AMR-ITH/yt-comment-analyzer.mlflow/#/experiments/8\n",
            "✅ Completed: BoW with max_features=10000, Accuracy: 0.6484\n",
            "🏃 View run BoW_Trigrams_max_features_10000 at: https://dagshub.com/AMR-ITH/yt-comment-analyzer.mlflow/#/experiments/8/runs/e27c3ab142e84a1a92707eced42adebc\n",
            "🧪 View experiment at: https://dagshub.com/AMR-ITH/yt-comment-analyzer.mlflow/#/experiments/8\n",
            "🎉 Completed all BoW experiments!\n",
            "\n",
            "🎯 All experiments completed! Check MLflow for results.\n",
            "📈 Compare the performance curves to find optimal max_features value.\n"
          ]
        }
      ]
    }
  ],
  "metadata": {
    "colab": {
      "provenance": []
    },
    "kernelspec": {
      "display_name": "Python 3",
      "name": "python3"
    },
    "language_info": {
      "codemirror_mode": {
        "name": "ipython",
        "version": 3
      },
      "file_extension": ".py",
      "mimetype": "text/x-python",
      "name": "python",
      "nbconvert_exporter": "python",
      "pygments_lexer": "ipython3",
      "version": "3.13.1"
    }
  },
  "nbformat": 4,
  "nbformat_minor": 0
}