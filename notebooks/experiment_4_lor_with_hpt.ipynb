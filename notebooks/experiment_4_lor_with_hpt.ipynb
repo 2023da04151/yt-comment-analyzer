{
  "nbformat": 4,
  "nbformat_minor": 0,
  "metadata": {
    "colab": {
      "provenance": []
    },
    "kernelspec": {
      "name": "python3",
      "display_name": "Python 3"
    },
    "language_info": {
      "name": "python"
    },
    "widgets": {
      "application/vnd.jupyter.widget-state+json": {
        "ec24d9d6f4524ff3b292f4bdc550684e": {
          "model_module": "@jupyter-widgets/output",
          "model_name": "OutputModel",
          "model_module_version": "1.0.0",
          "state": {
            "_dom_classes": [],
            "_model_module": "@jupyter-widgets/output",
            "_model_module_version": "1.0.0",
            "_model_name": "OutputModel",
            "_view_count": null,
            "_view_module": "@jupyter-widgets/output",
            "_view_module_version": "1.0.0",
            "_view_name": "OutputView",
            "layout": "IPY_MODEL_df2f365ee06b4cd496d64955ef70a131",
            "msg_id": "",
            "outputs": [
              {
                "output_type": "display_data",
                "data": {
                  "text/plain": "\u001b[32m⠸\u001b[0m Waiting for authorization\n",
                  "text/html": "<pre style=\"white-space:pre;overflow-x:auto;line-height:normal;font-family:Menlo,'DejaVu Sans Mono',consolas,'Courier New',monospace\"><span style=\"color: #008000; text-decoration-color: #008000\">⠸</span> Waiting for authorization\n</pre>\n"
                },
                "metadata": {}
              }
            ]
          }
        },
        "df2f365ee06b4cd496d64955ef70a131": {
          "model_module": "@jupyter-widgets/base",
          "model_name": "LayoutModel",
          "model_module_version": "1.2.0",
          "state": {
            "_model_module": "@jupyter-widgets/base",
            "_model_module_version": "1.2.0",
            "_model_name": "LayoutModel",
            "_view_count": null,
            "_view_module": "@jupyter-widgets/base",
            "_view_module_version": "1.2.0",
            "_view_name": "LayoutView",
            "align_content": null,
            "align_items": null,
            "align_self": null,
            "border": null,
            "bottom": null,
            "display": null,
            "flex": null,
            "flex_flow": null,
            "grid_area": null,
            "grid_auto_columns": null,
            "grid_auto_flow": null,
            "grid_auto_rows": null,
            "grid_column": null,
            "grid_gap": null,
            "grid_row": null,
            "grid_template_areas": null,
            "grid_template_columns": null,
            "grid_template_rows": null,
            "height": null,
            "justify_content": null,
            "justify_items": null,
            "left": null,
            "margin": null,
            "max_height": null,
            "max_width": null,
            "min_height": null,
            "min_width": null,
            "object_fit": null,
            "object_position": null,
            "order": null,
            "overflow": null,
            "overflow_x": null,
            "overflow_y": null,
            "padding": null,
            "right": null,
            "top": null,
            "visibility": null,
            "width": null
          }
        }
      }
    }
  },
  "cells": [
    {
      "cell_type": "code",
      "source": [
        "import dagshub\n",
        "import mlflow\n",
        "dagshub.init(repo_owner='AMR-ITH', repo_name='yt-comment-analyzer', mlflow=True)"
      ],
      "metadata": {
        "colab": {
          "base_uri": "https://localhost:8080/",
          "height": 86,
          "referenced_widgets": [
            "ec24d9d6f4524ff3b292f4bdc550684e",
            "df2f365ee06b4cd496d64955ef70a131"
          ]
        },
        "id": "CmmJhOwwMJhP",
        "outputId": "6761b6b6-3c35-4e68-9a83-7aa424105cfc"
      },
      "execution_count": null,
      "outputs": [
        {
          "output_type": "display_data",
          "data": {
            "text/plain": [
              "\u001b[32m⠼\u001b[0m Waiting for authorization\n"
            ],
            "text/html": [
              "<pre style=\"white-space:pre;overflow-x:auto;line-height:normal;font-family:Menlo,'DejaVu Sans Mono',consolas,'Courier New',monospace\"><span style=\"color: #008000; text-decoration-color: #008000\">⠼</span> Waiting for authorization\n",
              "</pre>\n"
            ]
          },
          "metadata": {}
        },
        {
          "output_type": "display_data",
          "data": {
            "text/plain": [],
            "text/html": [
              "<pre style=\"white-space:pre;overflow-x:auto;line-height:normal;font-family:Menlo,'DejaVu Sans Mono',consolas,'Courier New',monospace\"></pre>\n"
            ]
          },
          "metadata": {}
        },
        {
          "output_type": "display_data",
          "data": {
            "text/plain": [
              "Accessing as AMR-ITH\n"
            ],
            "text/html": [
              "<pre style=\"white-space:pre;overflow-x:auto;line-height:normal;font-family:Menlo,'DejaVu Sans Mono',consolas,'Courier New',monospace\">Accessing as AMR-ITH\n",
              "</pre>\n"
            ]
          },
          "metadata": {}
        },
        {
          "output_type": "display_data",
          "data": {
            "text/plain": [
              "Initialized MLflow to track repo \u001b[32m\"AMR-ITH/yt-comment-analyzer\"\u001b[0m\n"
            ],
            "text/html": [
              "<pre style=\"white-space:pre;overflow-x:auto;line-height:normal;font-family:Menlo,'DejaVu Sans Mono',consolas,'Courier New',monospace\">Initialized MLflow to track repo <span style=\"color: #008000; text-decoration-color: #008000\">\"AMR-ITH/yt-comment-analyzer\"</span>\n",
              "</pre>\n"
            ]
          },
          "metadata": {}
        },
        {
          "output_type": "display_data",
          "data": {
            "text/plain": [
              "Repository AMR-ITH/yt-comment-analyzer initialized!\n"
            ],
            "text/html": [
              "<pre style=\"white-space:pre;overflow-x:auto;line-height:normal;font-family:Menlo,'DejaVu Sans Mono',consolas,'Courier New',monospace\">Repository AMR-ITH/yt-comment-analyzer initialized!\n",
              "</pre>\n"
            ]
          },
          "metadata": {}
        }
      ]
    },
    {
      "cell_type": "code",
      "source": [
        "# Set or create an experiment\n",
        "mlflow.set_experiment(\"ML Algos with HP Tuning\")"
      ],
      "metadata": {
        "colab": {
          "base_uri": "https://localhost:8080/"
        },
        "id": "T70S4lYhMTVH",
        "outputId": "e9d8c1b3-ce98-43c3-e281-e7a5d90efb63"
      },
      "execution_count": null,
      "outputs": [
        {
          "output_type": "execute_result",
          "data": {
            "text/plain": [
              "<Experiment: artifact_location='mlflow-artifacts:/6372c8dc1c894e3290997ce5e2b55158', creation_time=1751625225992, experiment_id='4', last_update_time=1751625225992, lifecycle_stage='active', name='ML Algos with HP Tuning', tags={}>"
            ]
          },
          "metadata": {},
          "execution_count": 3
        }
      ]
    },
    {
      "cell_type": "code",
      "source": [
        "import pandas as pd\n",
        "from sklearn.feature_extraction.text import TfidfVectorizer\n",
        "from sklearn.model_selection import train_test_split\n",
        "from sklearn.metrics import accuracy_score, classification_report\n",
        "from sklearn.linear_model import LogisticRegression\n",
        "from sklearn.svm import SVC\n",
        "import mlflow\n",
        "import mlflow.sklearn\n",
        "import optuna\n",
        "from imblearn.under_sampling import RandomUnderSampler"
      ],
      "metadata": {
        "id": "_Qts_SiwMV1-"
      },
      "execution_count": null,
      "outputs": []
    },
    {
      "cell_type": "code",
      "source": [
        "df = pd.read_csv('/content/reddit_preprocessing.csv')\n",
        "df.head()"
      ],
      "metadata": {
        "colab": {
          "base_uri": "https://localhost:8080/",
          "height": 206
        },
        "id": "BLinZCxMM1R8",
        "outputId": "87fc1961-1597-45f4-c02a-6ef964e46eee"
      },
      "execution_count": null,
      "outputs": [
        {
          "output_type": "execute_result",
          "data": {
            "text/plain": [
              "                                       clean_comment  category\n",
              "0  family mormon never tried explain still stare ...         1\n",
              "1  buddhism much lot compatible christianity espe...         1\n",
              "2  seriously say thing first get complex explain ...        -1\n",
              "3  learned want teach different focus goal not wr...         0\n",
              "4  benefit may want read living buddha living chr...         1"
            ],
            "text/html": [
              "\n",
              "  <div id=\"df-55bda5cf-8505-4bc3-b7a5-d131b9446339\" class=\"colab-df-container\">\n",
              "    <div>\n",
              "<style scoped>\n",
              "    .dataframe tbody tr th:only-of-type {\n",
              "        vertical-align: middle;\n",
              "    }\n",
              "\n",
              "    .dataframe tbody tr th {\n",
              "        vertical-align: top;\n",
              "    }\n",
              "\n",
              "    .dataframe thead th {\n",
              "        text-align: right;\n",
              "    }\n",
              "</style>\n",
              "<table border=\"1\" class=\"dataframe\">\n",
              "  <thead>\n",
              "    <tr style=\"text-align: right;\">\n",
              "      <th></th>\n",
              "      <th>clean_comment</th>\n",
              "      <th>category</th>\n",
              "    </tr>\n",
              "  </thead>\n",
              "  <tbody>\n",
              "    <tr>\n",
              "      <th>0</th>\n",
              "      <td>family mormon never tried explain still stare ...</td>\n",
              "      <td>1</td>\n",
              "    </tr>\n",
              "    <tr>\n",
              "      <th>1</th>\n",
              "      <td>buddhism much lot compatible christianity espe...</td>\n",
              "      <td>1</td>\n",
              "    </tr>\n",
              "    <tr>\n",
              "      <th>2</th>\n",
              "      <td>seriously say thing first get complex explain ...</td>\n",
              "      <td>-1</td>\n",
              "    </tr>\n",
              "    <tr>\n",
              "      <th>3</th>\n",
              "      <td>learned want teach different focus goal not wr...</td>\n",
              "      <td>0</td>\n",
              "    </tr>\n",
              "    <tr>\n",
              "      <th>4</th>\n",
              "      <td>benefit may want read living buddha living chr...</td>\n",
              "      <td>1</td>\n",
              "    </tr>\n",
              "  </tbody>\n",
              "</table>\n",
              "</div>\n",
              "    <div class=\"colab-df-buttons\">\n",
              "\n",
              "  <div class=\"colab-df-container\">\n",
              "    <button class=\"colab-df-convert\" onclick=\"convertToInteractive('df-55bda5cf-8505-4bc3-b7a5-d131b9446339')\"\n",
              "            title=\"Convert this dataframe to an interactive table.\"\n",
              "            style=\"display:none;\">\n",
              "\n",
              "  <svg xmlns=\"http://www.w3.org/2000/svg\" height=\"24px\" viewBox=\"0 -960 960 960\">\n",
              "    <path d=\"M120-120v-720h720v720H120Zm60-500h600v-160H180v160Zm220 220h160v-160H400v160Zm0 220h160v-160H400v160ZM180-400h160v-160H180v160Zm440 0h160v-160H620v160ZM180-180h160v-160H180v160Zm440 0h160v-160H620v160Z\"/>\n",
              "  </svg>\n",
              "    </button>\n",
              "\n",
              "  <style>\n",
              "    .colab-df-container {\n",
              "      display:flex;\n",
              "      gap: 12px;\n",
              "    }\n",
              "\n",
              "    .colab-df-convert {\n",
              "      background-color: #E8F0FE;\n",
              "      border: none;\n",
              "      border-radius: 50%;\n",
              "      cursor: pointer;\n",
              "      display: none;\n",
              "      fill: #1967D2;\n",
              "      height: 32px;\n",
              "      padding: 0 0 0 0;\n",
              "      width: 32px;\n",
              "    }\n",
              "\n",
              "    .colab-df-convert:hover {\n",
              "      background-color: #E2EBFA;\n",
              "      box-shadow: 0px 1px 2px rgba(60, 64, 67, 0.3), 0px 1px 3px 1px rgba(60, 64, 67, 0.15);\n",
              "      fill: #174EA6;\n",
              "    }\n",
              "\n",
              "    .colab-df-buttons div {\n",
              "      margin-bottom: 4px;\n",
              "    }\n",
              "\n",
              "    [theme=dark] .colab-df-convert {\n",
              "      background-color: #3B4455;\n",
              "      fill: #D2E3FC;\n",
              "    }\n",
              "\n",
              "    [theme=dark] .colab-df-convert:hover {\n",
              "      background-color: #434B5C;\n",
              "      box-shadow: 0px 1px 3px 1px rgba(0, 0, 0, 0.15);\n",
              "      filter: drop-shadow(0px 1px 2px rgba(0, 0, 0, 0.3));\n",
              "      fill: #FFFFFF;\n",
              "    }\n",
              "  </style>\n",
              "\n",
              "    <script>\n",
              "      const buttonEl =\n",
              "        document.querySelector('#df-55bda5cf-8505-4bc3-b7a5-d131b9446339 button.colab-df-convert');\n",
              "      buttonEl.style.display =\n",
              "        google.colab.kernel.accessAllowed ? 'block' : 'none';\n",
              "\n",
              "      async function convertToInteractive(key) {\n",
              "        const element = document.querySelector('#df-55bda5cf-8505-4bc3-b7a5-d131b9446339');\n",
              "        const dataTable =\n",
              "          await google.colab.kernel.invokeFunction('convertToInteractive',\n",
              "                                                    [key], {});\n",
              "        if (!dataTable) return;\n",
              "\n",
              "        const docLinkHtml = 'Like what you see? Visit the ' +\n",
              "          '<a target=\"_blank\" href=https://colab.research.google.com/notebooks/data_table.ipynb>data table notebook</a>'\n",
              "          + ' to learn more about interactive tables.';\n",
              "        element.innerHTML = '';\n",
              "        dataTable['output_type'] = 'display_data';\n",
              "        await google.colab.output.renderOutput(dataTable, element);\n",
              "        const docLink = document.createElement('div');\n",
              "        docLink.innerHTML = docLinkHtml;\n",
              "        element.appendChild(docLink);\n",
              "      }\n",
              "    </script>\n",
              "  </div>\n",
              "\n",
              "\n",
              "    <div id=\"df-e13e8176-8a6e-4c24-be9e-7387465e49d7\">\n",
              "      <button class=\"colab-df-quickchart\" onclick=\"quickchart('df-e13e8176-8a6e-4c24-be9e-7387465e49d7')\"\n",
              "                title=\"Suggest charts\"\n",
              "                style=\"display:none;\">\n",
              "\n",
              "<svg xmlns=\"http://www.w3.org/2000/svg\" height=\"24px\"viewBox=\"0 0 24 24\"\n",
              "     width=\"24px\">\n",
              "    <g>\n",
              "        <path d=\"M19 3H5c-1.1 0-2 .9-2 2v14c0 1.1.9 2 2 2h14c1.1 0 2-.9 2-2V5c0-1.1-.9-2-2-2zM9 17H7v-7h2v7zm4 0h-2V7h2v10zm4 0h-2v-4h2v4z\"/>\n",
              "    </g>\n",
              "</svg>\n",
              "      </button>\n",
              "\n",
              "<style>\n",
              "  .colab-df-quickchart {\n",
              "      --bg-color: #E8F0FE;\n",
              "      --fill-color: #1967D2;\n",
              "      --hover-bg-color: #E2EBFA;\n",
              "      --hover-fill-color: #174EA6;\n",
              "      --disabled-fill-color: #AAA;\n",
              "      --disabled-bg-color: #DDD;\n",
              "  }\n",
              "\n",
              "  [theme=dark] .colab-df-quickchart {\n",
              "      --bg-color: #3B4455;\n",
              "      --fill-color: #D2E3FC;\n",
              "      --hover-bg-color: #434B5C;\n",
              "      --hover-fill-color: #FFFFFF;\n",
              "      --disabled-bg-color: #3B4455;\n",
              "      --disabled-fill-color: #666;\n",
              "  }\n",
              "\n",
              "  .colab-df-quickchart {\n",
              "    background-color: var(--bg-color);\n",
              "    border: none;\n",
              "    border-radius: 50%;\n",
              "    cursor: pointer;\n",
              "    display: none;\n",
              "    fill: var(--fill-color);\n",
              "    height: 32px;\n",
              "    padding: 0;\n",
              "    width: 32px;\n",
              "  }\n",
              "\n",
              "  .colab-df-quickchart:hover {\n",
              "    background-color: var(--hover-bg-color);\n",
              "    box-shadow: 0 1px 2px rgba(60, 64, 67, 0.3), 0 1px 3px 1px rgba(60, 64, 67, 0.15);\n",
              "    fill: var(--button-hover-fill-color);\n",
              "  }\n",
              "\n",
              "  .colab-df-quickchart-complete:disabled,\n",
              "  .colab-df-quickchart-complete:disabled:hover {\n",
              "    background-color: var(--disabled-bg-color);\n",
              "    fill: var(--disabled-fill-color);\n",
              "    box-shadow: none;\n",
              "  }\n",
              "\n",
              "  .colab-df-spinner {\n",
              "    border: 2px solid var(--fill-color);\n",
              "    border-color: transparent;\n",
              "    border-bottom-color: var(--fill-color);\n",
              "    animation:\n",
              "      spin 1s steps(1) infinite;\n",
              "  }\n",
              "\n",
              "  @keyframes spin {\n",
              "    0% {\n",
              "      border-color: transparent;\n",
              "      border-bottom-color: var(--fill-color);\n",
              "      border-left-color: var(--fill-color);\n",
              "    }\n",
              "    20% {\n",
              "      border-color: transparent;\n",
              "      border-left-color: var(--fill-color);\n",
              "      border-top-color: var(--fill-color);\n",
              "    }\n",
              "    30% {\n",
              "      border-color: transparent;\n",
              "      border-left-color: var(--fill-color);\n",
              "      border-top-color: var(--fill-color);\n",
              "      border-right-color: var(--fill-color);\n",
              "    }\n",
              "    40% {\n",
              "      border-color: transparent;\n",
              "      border-right-color: var(--fill-color);\n",
              "      border-top-color: var(--fill-color);\n",
              "    }\n",
              "    60% {\n",
              "      border-color: transparent;\n",
              "      border-right-color: var(--fill-color);\n",
              "    }\n",
              "    80% {\n",
              "      border-color: transparent;\n",
              "      border-right-color: var(--fill-color);\n",
              "      border-bottom-color: var(--fill-color);\n",
              "    }\n",
              "    90% {\n",
              "      border-color: transparent;\n",
              "      border-bottom-color: var(--fill-color);\n",
              "    }\n",
              "  }\n",
              "</style>\n",
              "\n",
              "      <script>\n",
              "        async function quickchart(key) {\n",
              "          const quickchartButtonEl =\n",
              "            document.querySelector('#' + key + ' button');\n",
              "          quickchartButtonEl.disabled = true;  // To prevent multiple clicks.\n",
              "          quickchartButtonEl.classList.add('colab-df-spinner');\n",
              "          try {\n",
              "            const charts = await google.colab.kernel.invokeFunction(\n",
              "                'suggestCharts', [key], {});\n",
              "          } catch (error) {\n",
              "            console.error('Error during call to suggestCharts:', error);\n",
              "          }\n",
              "          quickchartButtonEl.classList.remove('colab-df-spinner');\n",
              "          quickchartButtonEl.classList.add('colab-df-quickchart-complete');\n",
              "        }\n",
              "        (() => {\n",
              "          let quickchartButtonEl =\n",
              "            document.querySelector('#df-e13e8176-8a6e-4c24-be9e-7387465e49d7 button');\n",
              "          quickchartButtonEl.style.display =\n",
              "            google.colab.kernel.accessAllowed ? 'block' : 'none';\n",
              "        })();\n",
              "      </script>\n",
              "    </div>\n",
              "\n",
              "    </div>\n",
              "  </div>\n"
            ],
            "application/vnd.google.colaboratory.intrinsic+json": {
              "type": "dataframe",
              "variable_name": "df",
              "summary": "{\n  \"name\": \"df\",\n  \"rows\": 36793,\n  \"fields\": [\n    {\n      \"column\": \"clean_comment\",\n      \"properties\": {\n        \"dtype\": \"string\",\n        \"num_unique_values\": 36236,\n        \"samples\": [\n          \"modi peace prize not hindutva issue\",\n          \"people tend think blood but mentioned repeatedly modi also modi success success but job right question asking question opposition lost public confidence 2014 nda represents people logical thing would look work\",\n          \"team support god played team hang post retirement support team particular neither selected pujara root pity want indian guy perform well smash foreigner started supporting srh year back yuvraj yep old school yuvi fanboy bhuvi ideal would mumbai win dhoni raina jadeja performing well csk dhoni hitting fastest ipl yuvraj getting 1st t20 century ashwin getting fifer getting kxip final bhajji getting man match award csk koach brohit raina tight competition orange cap bumrah bhuvi sending middle stump cartwheeling back bowling chriss lynn villiers respectively yuzi buoy thechesschampion check mate glenn maxwell insert lifening snow patrol read ever wanted life\"\n        ],\n        \"semantic_type\": \"\",\n        \"description\": \"\"\n      }\n    },\n    {\n      \"column\": \"category\",\n      \"properties\": {\n        \"dtype\": \"number\",\n        \"std\": 0,\n        \"min\": -1,\n        \"max\": 1,\n        \"num_unique_values\": 3,\n        \"samples\": [\n          1,\n          -1,\n          0\n        ],\n        \"semantic_type\": \"\",\n        \"description\": \"\"\n      }\n    }\n  ]\n}"
            }
          },
          "metadata": {},
          "execution_count": 5
        }
      ]
    },
    {
      "cell_type": "code",
      "source": [
        "df = pd.read_csv('/content/reddit_preprocessing.csv').dropna()\n",
        "df.shape"
      ],
      "metadata": {
        "colab": {
          "base_uri": "https://localhost:8080/"
        },
        "id": "7AuoHvs0M5C8",
        "outputId": "1df95a7b-72ad-416e-a8c1-da2e442fca0b"
      },
      "execution_count": null,
      "outputs": [
        {
          "output_type": "execute_result",
          "data": {
            "text/plain": [
              "(36662, 2)"
            ]
          },
          "metadata": {},
          "execution_count": 6
        }
      ]
    },
    {
      "cell_type": "code",
      "source": [
        "# Step 1: Clean data\n",
        "df = df.dropna(subset=['category'])\n",
        "y = df['category']\n",
        "X_raw = df['clean_comment']\n",
        "\n",
        "# Step 2: Train-test split BEFORE vectorization or resampling\n",
        "X_train_raw, X_test_raw, y_train, y_test = train_test_split(X_raw, y, test_size=0.2, random_state=42, stratify=y)\n",
        "\n",
        "# Step 3: Vectorization only on training data\n",
        "vectorizer = TfidfVectorizer(ngram_range=(1, 3), max_features=3000)\n",
        "X_train_vect = vectorizer.fit_transform(X_train_raw)\n",
        "X_test_vect = vectorizer.transform(X_test_raw)  # Note: transform only!\n",
        "\n",
        "# Step 4: Undersampling (only on training data)\n",
        "rus = RandomUnderSampler(random_state=42)\n",
        "X_train_resampled, y_train_resampled = rus.fit_resample(X_train_vect, y_train)\n",
        "\n",
        "# # Step 5: Train-test split\n",
        "X_train, X_test, y_train, y_test = train_test_split(X_train_resampled, y_train_resampled, test_size=0.2, random_state=42, stratify=y_train_resampled)\n",
        "\n",
        "# Function to log results in MLflow\n",
        "def log_mlflow(model_name, model, X_train, X_test, y_train, y_test):\n",
        "    with mlflow.start_run():\n",
        "        # Log model type\n",
        "        mlflow.set_tag(\"mlflow.runName\", f\"{model_name}_RandomUnderSampler_TFIDF_Trigrams\")\n",
        "        mlflow.set_tag(\"experiment_type\", \"algorithm_comparison\")\n",
        "\n",
        "        # Log algorithm name as a parameter\n",
        "        mlflow.log_param(\"algo_name\", model_name)\n",
        "\n",
        "        # Train model\n",
        "        model.fit(X_train, y_train)\n",
        "        y_pred = model.predict(X_test)\n",
        "\n",
        "        # Log accuracy\n",
        "        accuracy = accuracy_score(y_test, y_pred)\n",
        "        mlflow.log_metric(\"accuracy\", accuracy)\n",
        "\n",
        "        # Log classification report\n",
        "        classification_rep = classification_report(y_test, y_pred, output_dict=True)\n",
        "        for label, metrics in classification_rep.items():\n",
        "            if isinstance(metrics, dict):\n",
        "                for metric, value in metrics.items():\n",
        "                    mlflow.log_metric(f\"{label}_{metric}\", value)\n",
        "\n",
        "\n",
        "\n",
        "# Step 6: Optuna objective function for Logistic Regression\n",
        "def objective_logreg(trial):\n",
        "    C = trial.suggest_float('C', 1e-4, 10.0, log=True)\n",
        "    penalty = trial.suggest_categorical('penalty', ['l1', 'l2'])\n",
        "\n",
        "    # LogisticRegression model setup with balanced class weight\n",
        "    model = LogisticRegression(C=C, penalty=penalty, solver='liblinear', random_state=42)\n",
        "    return accuracy_score(y_test, model.fit(X_train, y_train).predict(X_test))\n",
        "\n",
        "\n",
        "# Step 7: Run Optuna for Logistic Regression, log the best model only\n",
        "def run_optuna_experiment():\n",
        "    study = optuna.create_study(direction=\"maximize\")\n",
        "    study.optimize(objective_logreg, n_trials=30)\n",
        "\n",
        "    # Get the best parameters and log only the best model\n",
        "    best_params = study.best_params\n",
        "    best_model = LogisticRegression(C=best_params['C'], penalty=best_params['penalty'], solver='liblinear', random_state=42)\n",
        "\n",
        "    # Log the best model with MLflow, passing the algo_name as \"LogisticRegression\"\n",
        "    log_mlflow(\"LogisticRegression\", best_model, X_train, X_test, y_train, y_test)\n",
        "\n",
        "# Run the experiment for Logistic Regression\n",
        "run_optuna_experiment()\n"
      ],
      "metadata": {
        "colab": {
          "base_uri": "https://localhost:8080/"
        },
        "id": "JB7M-2EaM8tz",
        "outputId": "256f8059-3652-4508-bc7f-9750c6101dc4"
      },
      "execution_count": null,
      "outputs": [
        {
          "output_type": "stream",
          "name": "stderr",
          "text": [
            "[I 2025-07-11 12:43:10,303] A new study created in memory with name: no-name-5985c4fd-67cc-49a0-9a46-bb52ea2e02ec\n",
            "[I 2025-07-11 12:43:10,453] Trial 0 finished with value: 0.8181358929022481 and parameters: {'C': 2.975773259308346, 'penalty': 'l2'}. Best is trial 0 with value: 0.8181358929022481.\n",
            "[I 2025-07-11 12:43:10,485] Trial 1 finished with value: 0.48901237686284416 and parameters: {'C': 0.026086223346419794, 'penalty': 'l1'}. Best is trial 0 with value: 0.8181358929022481.\n",
            "[I 2025-07-11 12:43:10,551] Trial 2 finished with value: 0.6855266481434705 and parameters: {'C': 0.03176105735783011, 'penalty': 'l2'}. Best is trial 0 with value: 0.8181358929022481.\n",
            "[I 2025-07-11 12:43:10,610] Trial 3 finished with value: 0.7552412225309422 and parameters: {'C': 0.2296330899283873, 'penalty': 'l1'}. Best is trial 0 with value: 0.8181358929022481.\n",
            "[I 2025-07-11 12:43:10,631] Trial 4 finished with value: 0.33316494064157615 and parameters: {'C': 0.0006020930239735948, 'penalty': 'l1'}. Best is trial 0 with value: 0.8181358929022481.\n",
            "[I 2025-07-11 12:43:10,693] Trial 5 finished with value: 0.8183884819398838 and parameters: {'C': 0.5691092842968793, 'penalty': 'l1'}. Best is trial 5 with value: 0.8183884819398838.\n",
            "[I 2025-07-11 12:43:10,844] Trial 6 finished with value: 0.8153574134882546 and parameters: {'C': 2.0873794963802914, 'penalty': 'l2'}. Best is trial 5 with value: 0.8183884819398838.\n",
            "[I 2025-07-11 12:43:10,936] Trial 7 finished with value: 0.6835059358423844 and parameters: {'C': 0.028807102087814625, 'penalty': 'l2'}. Best is trial 5 with value: 0.8183884819398838.\n",
            "[I 2025-07-11 12:43:11,033] Trial 8 finished with value: 0.7115433190199545 and parameters: {'C': 0.06369807332659692, 'penalty': 'l2'}. Best is trial 5 with value: 0.8183884819398838.\n",
            "[I 2025-07-11 12:43:11,234] Trial 9 finished with value: 0.8178833038646123 and parameters: {'C': 2.824225635941265, 'penalty': 'l2'}. Best is trial 5 with value: 0.8183884819398838.\n",
            "[I 2025-07-11 12:43:11,269] Trial 10 finished with value: 0.33316494064157615 and parameters: {'C': 0.0003802081773136354, 'penalty': 'l1'}. Best is trial 5 with value: 0.8183884819398838.\n",
            "[I 2025-07-11 12:43:11,534] Trial 11 finished with value: 0.821419550391513 and parameters: {'C': 8.915298294215903, 'penalty': 'l1'}. Best is trial 11 with value: 0.821419550391513.\n",
            "[I 2025-07-11 12:43:11,817] Trial 12 finished with value: 0.8206617832786057 and parameters: {'C': 9.303316663808136, 'penalty': 'l1'}. Best is trial 11 with value: 0.821419550391513.\n",
            "[I 2025-07-11 12:43:12,086] Trial 13 finished with value: 0.8239454407678707 and parameters: {'C': 7.970109628411692, 'penalty': 'l1'}. Best is trial 13 with value: 0.8239454407678707.\n",
            "[I 2025-07-11 12:43:12,127] Trial 14 finished with value: 0.33316494064157615 and parameters: {'C': 0.003659039407628559, 'penalty': 'l1'}. Best is trial 13 with value: 0.8239454407678707.\n",
            "[I 2025-07-11 12:43:12,341] Trial 15 finished with value: 0.8199040161656984 and parameters: {'C': 9.87253576649646, 'penalty': 'l1'}. Best is trial 13 with value: 0.8239454407678707.\n",
            "[I 2025-07-11 12:43:12,405] Trial 16 finished with value: 0.8024753725688305 and parameters: {'C': 0.41821527514205115, 'penalty': 'l1'}. Best is trial 13 with value: 0.8239454407678707.\n",
            "[I 2025-07-11 12:43:12,489] Trial 17 finished with value: 0.8411214953271028 and parameters: {'C': 1.1442820923356012, 'penalty': 'l1'}. Best is trial 17 with value: 0.8411214953271028.\n",
            "[I 2025-07-11 12:43:12,571] Trial 18 finished with value: 0.8423844405152816 and parameters: {'C': 1.1085196564874014, 'penalty': 'l1'}. Best is trial 18 with value: 0.8423844405152816.\n",
            "[I 2025-07-11 12:43:12,622] Trial 19 finished with value: 0.7140692093963122 and parameters: {'C': 0.14501672402804602, 'penalty': 'l1'}. Best is trial 18 with value: 0.8423844405152816.\n",
            "[I 2025-07-11 12:43:12,650] Trial 20 finished with value: 0.33316494064157615 and parameters: {'C': 0.004877771842494982, 'penalty': 'l1'}. Best is trial 18 with value: 0.8423844405152816.\n",
            "[I 2025-07-11 12:43:12,731] Trial 21 finished with value: 0.8254609749936853 and parameters: {'C': 0.6618937851974755, 'penalty': 'l1'}. Best is trial 18 with value: 0.8423844405152816.\n",
            "[I 2025-07-11 12:43:12,813] Trial 22 finished with value: 0.8426370295529174 and parameters: {'C': 1.085803497138452, 'penalty': 'l1'}. Best is trial 22 with value: 0.8426370295529174.\n",
            "[I 2025-07-11 12:43:12,888] Trial 23 finished with value: 0.8287446324829503 and parameters: {'C': 0.7066139842317752, 'penalty': 'l1'}. Best is trial 22 with value: 0.8426370295529174.\n",
            "[I 2025-07-11 12:43:12,978] Trial 24 finished with value: 0.8461732760798182 and parameters: {'C': 1.4583466869484778, 'penalty': 'l1'}. Best is trial 24 with value: 0.8461732760798182.\n",
            "[I 2025-07-11 12:43:13,029] Trial 25 finished with value: 0.7269512503157363 and parameters: {'C': 0.16755090446485696, 'penalty': 'l1'}. Best is trial 24 with value: 0.8461732760798182.\n",
            "[I 2025-07-11 12:43:13,130] Trial 26 finished with value: 0.8461732760798182 and parameters: {'C': 1.8427937304890056, 'penalty': 'l1'}. Best is trial 24 with value: 0.8461732760798182.\n",
            "[I 2025-07-11 12:43:13,237] Trial 27 finished with value: 0.8451629199292751 and parameters: {'C': 1.8961631282556362, 'penalty': 'l1'}. Best is trial 24 with value: 0.8461732760798182.\n",
            "[I 2025-07-11 12:43:13,371] Trial 28 finished with value: 0.8436473857034604 and parameters: {'C': 3.585962433404972, 'penalty': 'l1'}. Best is trial 24 with value: 0.8461732760798182.\n",
            "[I 2025-07-11 12:43:13,516] Trial 29 finished with value: 0.8173781257893408 and parameters: {'C': 2.796245310505384, 'penalty': 'l2'}. Best is trial 24 with value: 0.8461732760798182.\n"
          ]
        },
        {
          "output_type": "stream",
          "name": "stdout",
          "text": [
            "🏃 View run LogisticRegression_RandomUnderSampler_TFIDF_Trigrams at: https://dagshub.com/AMR-ITH/yt-comment-analyzer.mlflow/#/experiments/4/runs/12bef1504f9a454e97041b59ec68d7d7\n",
            "🧪 View experiment at: https://dagshub.com/AMR-ITH/yt-comment-analyzer.mlflow/#/experiments/4\n"
          ]
        }
      ]
    }
  ]
}