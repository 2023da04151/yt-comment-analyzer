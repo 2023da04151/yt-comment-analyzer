{
  "cells": [
    {
      "cell_type": "code",
      "execution_count": 16,
      "metadata": {
        "id": "TjY0D2NZL-3z"
      },
      "outputs": [],
      "source": [
        "from sklearn.feature_extraction.text import CountVectorizer, TfidfVectorizer\n",
        "from sklearn.ensemble import RandomForestClassifier\n",
        "from sklearn.model_selection import train_test_split\n",
        "from sklearn.metrics import accuracy_score, classification_report, confusion_matrix\n",
        "import mlflow.sklearn\n",
        "import matplotlib.pyplot as plt\n",
        "import seaborn as sns\n",
        "import pandas as pd\n",
        "import os\n",
        "from pathlib import Path"
      ]
    },
    {
      "cell_type": "code",
      "execution_count": 17,
      "metadata": {
        "id": "aMxxPUq_Lnt5"
      },
      "outputs": [],
      "source": [
        "cwd_dir = Path.cwd().parent\n"
      ]
    },
    {
      "cell_type": "code",
      "execution_count": 18,
      "metadata": {
        "id": "kx9BcfQ-7bS_"
      },
      "outputs": [],
      "source": [
        "df = pd.read_csv(\"/content/reddit_preprocessing.csv\").dropna(subset=['clean_comment'])"
      ]
    },
    {
      "cell_type": "code",
      "execution_count": 19,
      "metadata": {
        "colab": {
          "base_uri": "https://localhost:8080/"
        },
        "id": "GaZHTiOiMCRD",
        "outputId": "bd478047-a738-4d79-e6e4-56471defa88b"
      },
      "outputs": [
        {
          "output_type": "execute_result",
          "data": {
            "text/plain": [
              "(36662, 2)"
            ]
          },
          "metadata": {},
          "execution_count": 19
        }
      ],
      "source": [
        "df.shape"
      ]
    },
    {
      "cell_type": "code",
      "execution_count": 20,
      "metadata": {
        "colab": {
          "base_uri": "https://localhost:8080/",
          "height": 51
        },
        "id": "WoGHC6EGME8R",
        "outputId": "2d9734cd-c3e0-474f-d8a9-9b6ed195b4fa"
      },
      "outputs": [
        {
          "output_type": "display_data",
          "data": {
            "text/plain": [
              "Initialized MLflow to track repo \u001b[32m\"AMR-ITH/yt-comment-analyzer\"\u001b[0m\n"
            ],
            "text/html": [
              "<pre style=\"white-space:pre;overflow-x:auto;line-height:normal;font-family:Menlo,'DejaVu Sans Mono',consolas,'Courier New',monospace\">Initialized MLflow to track repo <span style=\"color: #008000; text-decoration-color: #008000\">\"AMR-ITH/yt-comment-analyzer\"</span>\n",
              "</pre>\n"
            ]
          },
          "metadata": {}
        },
        {
          "output_type": "display_data",
          "data": {
            "text/plain": [
              "Repository AMR-ITH/yt-comment-analyzer initialized!\n"
            ],
            "text/html": [
              "<pre style=\"white-space:pre;overflow-x:auto;line-height:normal;font-family:Menlo,'DejaVu Sans Mono',consolas,'Courier New',monospace\">Repository AMR-ITH/yt-comment-analyzer initialized!\n",
              "</pre>\n"
            ]
          },
          "metadata": {}
        }
      ],
      "source": [
        "import dagshub\n",
        "dagshub.init(repo_owner='AMR-ITH', repo_name='yt-comment-analyzer', mlflow=True)\n"
      ]
    },
    {
      "cell_type": "code",
      "execution_count": 21,
      "metadata": {
        "colab": {
          "base_uri": "https://localhost:8080/"
        },
        "id": "r4xSLOViMg3C",
        "outputId": "39555520-59e2-49aa-e62a-fabf70e13fd6"
      },
      "outputs": [
        {
          "output_type": "execute_result",
          "data": {
            "text/plain": [
              "<Experiment: artifact_location='mlflow-artifacts:/2c14398098984bd99c77f12615b80629', creation_time=1751550497001, experiment_id='2', last_update_time=1751550497001, lifecycle_stage='active', name='Exp1 - BoW vs TfIdf', tags={}>"
            ]
          },
          "metadata": {},
          "execution_count": 21
        }
      ],
      "source": [
        "# Set or create an experiment\n",
        "mlflow.set_experiment(\"Exp1 - BoW vs TfIdf\")"
      ]
    },
    {
      "cell_type": "code",
      "execution_count": 33,
      "metadata": {
        "id": "1brx2ROF7bTD"
      },
      "outputs": [],
      "source": [
        "# 🧠 Helper function to get averaged word embeddings per document\n",
        "def get_avg_wordvec(doc, model, vector_size):\n",
        "    words = doc.split()\n",
        "    valid_words = [w for w in words if w in model.wv]\n",
        "    if not valid_words:\n",
        "        return np.zeros(vector_size)\n",
        "    return np.mean([model.wv[w] for w in valid_words], axis=0)\n",
        "\n",
        "# 🔁 Main experiment runner\n",
        "def run_experiment(vectorizer_type, ngram_range, vectorizer_max_features, vectorizer_name, w2v_params=None):\n",
        "    # Ensure no active runs before starting\n",
        "    if mlflow.active_run():\n",
        "        mlflow.end_run()\n",
        "\n",
        "    X_train_raw, X_test_raw, y_train, y_test = train_test_split(\n",
        "        df['clean_comment'], df['category'], test_size=0.2, random_state=42, stratify=df['category']\n",
        "    )\n",
        "\n",
        "    if vectorizer_type == \"BoW\":\n",
        "        vectorizer = CountVectorizer(ngram_range=ngram_range, max_features=vectorizer_max_features)\n",
        "        X_train = vectorizer.fit_transform(X_train_raw)\n",
        "        X_test = vectorizer.transform(X_test_raw)\n",
        "\n",
        "    elif vectorizer_type == \"TF-IDF\":\n",
        "        vectorizer = TfidfVectorizer(ngram_range=ngram_range, max_features=vectorizer_max_features)\n",
        "        X_train = vectorizer.fit_transform(X_train_raw)\n",
        "        X_test = vectorizer.transform(X_test_raw)\n",
        "\n",
        "    elif vectorizer_type == \"Word2Vec\":\n",
        "        tokenized_train = [text.split() for text in X_train_raw]\n",
        "\n",
        "        # Default params with update from user-defined\n",
        "        w2v_defaults = {\n",
        "            \"vector_size\": 100,\n",
        "            \"window\": 5,\n",
        "            \"min_count\": 1,\n",
        "            \"workers\": 4,\n",
        "            \"sg\": 0\n",
        "        }\n",
        "        if w2v_params:\n",
        "            w2v_defaults.update(w2v_params)\n",
        "\n",
        "        model_w2v = Word2Vec(sentences=tokenized_train, seed=42, **w2v_defaults)\n",
        "\n",
        "        X_train = np.array([get_avg_wordvec(text, model_w2v, w2v_defaults[\"vector_size\"]) for text in X_train_raw])\n",
        "        X_test = np.array([get_avg_wordvec(text, model_w2v, w2v_defaults[\"vector_size\"]) for text in X_test_raw])\n",
        "\n",
        "    else:\n",
        "        raise ValueError(\"Unsupported vectorizer_type\")\n",
        "\n",
        "    # 🎯 Model Training & Logging\n",
        "    try:\n",
        "        with mlflow.start_run() as run:\n",
        "            # Run name\n",
        "            if vectorizer_type == \"Word2Vec\":\n",
        "                run_name = f\"{vectorizer_name}_RandomForest\"\n",
        "            else:\n",
        "                run_name = f\"{vectorizer_name}_{ngram_range}_RandomForest\"\n",
        "\n",
        "            mlflow.set_tag(\"mlflow.runName\", run_name)\n",
        "            mlflow.set_tag(\"experiment_type\", \"feature_engineering\")\n",
        "            mlflow.set_tag(\"model_type\", \"RandomForestClassifier\")\n",
        "\n",
        "            # General parameters\n",
        "            mlflow.log_param(\"vectorizer_type\", vectorizer_type)\n",
        "            if vectorizer_type != \"Word2Vec\":\n",
        "                mlflow.log_param(\"ngram_range\", ngram_range)\n",
        "                mlflow.log_param(\"vectorizer_max_features\", vectorizer_max_features)\n",
        "\n",
        "            # Log Word2Vec parameters if applicable\n",
        "            if vectorizer_type == \"Word2Vec\" and w2v_params:\n",
        "                for key, val in w2v_defaults.items():\n",
        "                    mlflow.log_param(f\"w2v_{key}\", val)\n",
        "\n",
        "            # Model hyperparameters\n",
        "            n_estimators = 200\n",
        "            max_depth = 15\n",
        "            mlflow.log_param(\"n_estimators\", n_estimators)\n",
        "            mlflow.log_param(\"max_depth\", max_depth)\n",
        "\n",
        "            model = RandomForestClassifier(n_estimators=n_estimators, max_depth=max_depth, random_state=42)\n",
        "            model.fit(X_train, y_train)\n",
        "\n",
        "            y_pred = model.predict(X_test)\n",
        "            accuracy = accuracy_score(y_test, y_pred)\n",
        "            mlflow.log_metric(\"accuracy\", accuracy)\n",
        "\n",
        "            classification_rep = classification_report(y_test, y_pred, output_dict=True)\n",
        "            for label, metrics in classification_rep.items():\n",
        "                if isinstance(metrics, dict):\n",
        "                    for metric, value in metrics.items():\n",
        "                        mlflow.log_metric(f\"{label}_{metric}\", value)\n",
        "\n",
        "            conf_matrix = confusion_matrix(y_test, y_pred)\n",
        "            plt.figure(figsize=(8, 6))\n",
        "            sns.heatmap(conf_matrix, annot=True, fmt=\"d\", cmap=\"Blues\")\n",
        "            plt.xlabel(\"Predicted\")\n",
        "            plt.ylabel(\"Actual\")\n",
        "            plt.title(f\"Confusion Matrix: {vectorizer_name}\")\n",
        "            plt.savefig(\"confusion_matrix.png\")\n",
        "            mlflow.log_artifact(\"confusion_matrix.png\")\n",
        "            plt.close()\n",
        "\n",
        "            print(f\"✅ Completed experiment: {run_name}\")\n",
        "\n",
        "    except Exception as e:\n",
        "        print(f\"❌ Error in experiment {vectorizer_name}: {str(e)}\")\n",
        "        # Ensure run is ended even if there's an error\n",
        "        if mlflow.active_run():\n",
        "            mlflow.end_run()\n",
        "        raise"
      ]
    },
    {
      "cell_type": "code",
      "execution_count": 34,
      "metadata": {
        "colab": {
          "base_uri": "https://localhost:8080/"
        },
        "id": "OK3kmKeW7bTE",
        "outputId": "caf02cfa-53c6-45e1-b909-63c2724a7d0f"
      },
      "outputs": [
        {
          "output_type": "stream",
          "name": "stdout",
          "text": [
            "🚀 Starting BoW and TF-IDF experiments...\n",
            "✅ Completed experiment: BoW_(1, 1)_RandomForest\n",
            "🏃 View run BoW_(1, 1)_RandomForest at: https://dagshub.com/AMR-ITH/yt-comment-analyzer.mlflow/#/experiments/2/runs/6b637184df5242e9b8c747f4b4445b6f\n",
            "🧪 View experiment at: https://dagshub.com/AMR-ITH/yt-comment-analyzer.mlflow/#/experiments/2\n",
            "✅ Completed experiment: TF-IDF_(1, 1)_RandomForest\n",
            "🏃 View run TF-IDF_(1, 1)_RandomForest at: https://dagshub.com/AMR-ITH/yt-comment-analyzer.mlflow/#/experiments/2/runs/d3d0e7f8176145df9aad12f3a3abd5a0\n",
            "🧪 View experiment at: https://dagshub.com/AMR-ITH/yt-comment-analyzer.mlflow/#/experiments/2\n",
            "✅ Completed experiment: BoW_(1, 2)_RandomForest\n",
            "🏃 View run BoW_(1, 2)_RandomForest at: https://dagshub.com/AMR-ITH/yt-comment-analyzer.mlflow/#/experiments/2/runs/a172b3cba1c440d3ac1872f04c3ff49f\n",
            "🧪 View experiment at: https://dagshub.com/AMR-ITH/yt-comment-analyzer.mlflow/#/experiments/2\n",
            "✅ Completed experiment: TF-IDF_(1, 2)_RandomForest\n",
            "🏃 View run TF-IDF_(1, 2)_RandomForest at: https://dagshub.com/AMR-ITH/yt-comment-analyzer.mlflow/#/experiments/2/runs/14c563d32b824477bf903f62485b1825\n",
            "🧪 View experiment at: https://dagshub.com/AMR-ITH/yt-comment-analyzer.mlflow/#/experiments/2\n",
            "✅ Completed experiment: BoW_(1, 3)_RandomForest\n",
            "🏃 View run BoW_(1, 3)_RandomForest at: https://dagshub.com/AMR-ITH/yt-comment-analyzer.mlflow/#/experiments/2/runs/709159dc5d9c4a449d612353c6a31f21\n",
            "🧪 View experiment at: https://dagshub.com/AMR-ITH/yt-comment-analyzer.mlflow/#/experiments/2\n",
            "✅ Completed experiment: TF-IDF_(1, 3)_RandomForest\n",
            "🏃 View run TF-IDF_(1, 3)_RandomForest at: https://dagshub.com/AMR-ITH/yt-comment-analyzer.mlflow/#/experiments/2/runs/2bc971a5829f4bb889cb31c5b533db34\n",
            "🧪 View experiment at: https://dagshub.com/AMR-ITH/yt-comment-analyzer.mlflow/#/experiments/2\n",
            "🚀 Starting Word2Vec experiments...\n",
            "✅ Completed experiment: W2V_vs100_w5_sg0_RandomForest\n",
            "🏃 View run W2V_vs100_w5_sg0_RandomForest at: https://dagshub.com/AMR-ITH/yt-comment-analyzer.mlflow/#/experiments/2/runs/815266449fed47f2b1d61f088d1c1130\n",
            "🧪 View experiment at: https://dagshub.com/AMR-ITH/yt-comment-analyzer.mlflow/#/experiments/2\n",
            "✅ Completed experiment: W2V_vs100_w5_sg1_RandomForest\n",
            "🏃 View run W2V_vs100_w5_sg1_RandomForest at: https://dagshub.com/AMR-ITH/yt-comment-analyzer.mlflow/#/experiments/2/runs/4aeb0dce95164ba2bb55630c01339101\n",
            "🧪 View experiment at: https://dagshub.com/AMR-ITH/yt-comment-analyzer.mlflow/#/experiments/2\n",
            "✅ Completed experiment: W2V_vs50_w3_sg0_RandomForest\n",
            "🏃 View run W2V_vs50_w3_sg0_RandomForest at: https://dagshub.com/AMR-ITH/yt-comment-analyzer.mlflow/#/experiments/2/runs/ff2f5707237f42f4ab80970c6a6b0a1c\n",
            "🧪 View experiment at: https://dagshub.com/AMR-ITH/yt-comment-analyzer.mlflow/#/experiments/2\n",
            "🎉 All experiments completed!\n"
          ]
        }
      ],
      "source": [
        "# 🧪 BoW and TF-IDF Experiments\n",
        "ngram_ranges = [(1, 1), (1, 2), (1, 3)]\n",
        "max_features = 5000\n",
        "\n",
        "print(\"🚀 Starting BoW and TF-IDF experiments...\")\n",
        "for ngram_range in ngram_ranges:\n",
        "    run_experiment(\"BoW\", ngram_range, max_features, vectorizer_name=\"BoW\")\n",
        "    run_experiment(\"TF-IDF\", ngram_range, max_features, vectorizer_name=\"TF-IDF\")\n",
        "\n",
        "print(\"🚀 Starting Word2Vec experiments...\")\n",
        "# 🧪 Word2Vec Experiments (grid search)\n",
        "w2v_param_grid = [\n",
        "    {\"vector_size\": 100, \"window\": 5, \"min_count\": 1, \"sg\": 0},  # CBOW\n",
        "    {\"vector_size\": 100, \"window\": 5, \"min_count\": 1, \"sg\": 1},  # Skip-gram\n",
        "    {\"vector_size\": 50, \"window\": 3, \"min_count\": 2, \"sg\": 0},   # CBOW smaller\n",
        "]\n",
        "\n",
        "for w2v_params in w2v_param_grid:\n",
        "    name = f\"W2V_vs{w2v_params['vector_size']}_w{w2v_params['window']}_sg{w2v_params['sg']}\"\n",
        "    run_experiment(\"Word2Vec\", None, None, vectorizer_name=name, w2v_params=w2v_params)\n",
        "\n",
        "print(\"🎉 All experiments completed!\")\n",
        "\n",
        "# Ensure any remaining active runs are closed\n",
        "if mlflow.active_run():\n",
        "    mlflow.end_run()"
      ]
    }
  ],
  "metadata": {
    "colab": {
      "provenance": []
    },
    "kernelspec": {
      "display_name": "Python 3",
      "name": "python3"
    },
    "language_info": {
      "codemirror_mode": {
        "name": "ipython",
        "version": 3
      },
      "file_extension": ".py",
      "mimetype": "text/x-python",
      "name": "python",
      "nbconvert_exporter": "python",
      "pygments_lexer": "ipython3",
      "version": "3.13.1"
    }
  },
  "nbformat": 4,
  "nbformat_minor": 0
}